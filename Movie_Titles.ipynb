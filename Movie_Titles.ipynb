{
  "nbformat": 4,
  "nbformat_minor": 0,
  "metadata": {
    "colab": {
      "provenance": [],
      "authorship_tag": "ABX9TyOoZVOFC8pOcBgvvmMm2WVO",
      "include_colab_link": true
    },
    "kernelspec": {
      "name": "python3",
      "display_name": "Python 3"
    },
    "language_info": {
      "name": "python"
    }
  },
  "cells": [
    {
      "cell_type": "markdown",
      "metadata": {
        "id": "view-in-github",
        "colab_type": "text"
      },
      "source": [
        "<a href=\"https://colab.research.google.com/github/Dele2/DelesPlace/blob/master/Movie_Titles.ipynb\" target=\"_parent\"><img src=\"https://colab.research.google.com/assets/colab-badge.svg\" alt=\"Open In Colab\"/></a>"
      ]
    },
    {
      "cell_type": "code",
      "execution_count": 1,
      "metadata": {
        "id": "9DRfdgzHk6d-"
      },
      "outputs": [],
      "source": [
        "import requests\n",
        "from bs4 import BeautifulSoup"
      ]
    },
    {
      "cell_type": "code",
      "execution_count": 2,
      "metadata": {
        "id": "-ccAjskim5B1"
      },
      "outputs": [],
      "source": [
        "html = requests.get('https://www.imdb.com/chart/top/?ref_=nv_250').content\n",
        "soup = BeautifulSoup(html, 'html.parser')"
      ]
    },
    {
      "cell_type": "code",
      "source": [
        "rows = soup.tbody.find_all('tr', limit=10)"
      ],
      "metadata": {
        "id": "1WBXaePbsrKs"
      },
      "execution_count": 11,
      "outputs": []
    },
    {
      "cell_type": "code",
      "source": [
        "for row in rows:\n",
        "    column = row.find('td', 'titleColumn')\n",
        "    title = column.a.text\n",
        "    year = column.span.text\n",
        "    link = column.a['href']\n",
        "    \n",
        "    movie_page = requests.get(f'https://www.imdb.com/{link}').content\n",
        "    movie_soup = BeautifulSoup(movie_page, 'html.parser')\n",
        "    genre_list = movie_soup.find_all('a', 'sc-16ede01-3 bYNgQ ipc-chip ipc-chip--on-baseAlt')\n",
        "    genres = [genre.text for genre in genre_list]\n",
        "    print(f'{title} {year} - {genres}')"
      ],
      "metadata": {
        "colab": {
          "base_uri": "https://localhost:8080/"
        },
        "id": "2dWY-sMrn87H",
        "outputId": "50c409e9-a492-495c-8fdc-5cf1ea081b84"
      },
      "execution_count": 12,
      "outputs": [
        {
          "output_type": "stream",
          "name": "stdout",
          "text": [
            "The Shawshank Redemption (1994) - ['Drama']\n",
            "The Godfather (1972) - ['Crime', 'Drama']\n",
            "The Dark Knight (2008) - ['Action', 'Crime', 'Drama']\n",
            "The Godfather Part II (1974) - ['Crime', 'Drama']\n",
            "12 Angry Men (1957) - ['Crime', 'Drama']\n",
            "Schindler's List (1993) - ['Biography', 'Drama', 'History']\n",
            "The Lord of the Rings: The Return of the King (2003) - ['Action', 'Adventure', 'Drama']\n",
            "Pulp Fiction (1994) - ['Crime', 'Drama']\n",
            "The Lord of the Rings: The Fellowship of the Ring (2001) - ['Action', 'Adventure', 'Drama']\n",
            "The Good, the Bad and the Ugly (1966) - ['Adventure', 'Western']\n"
          ]
        }
      ]
    },
    {
      "cell_type": "code",
      "source": [],
      "metadata": {
        "id": "kLIADK7apbEk"
      },
      "execution_count": null,
      "outputs": []
    }
  ]
}